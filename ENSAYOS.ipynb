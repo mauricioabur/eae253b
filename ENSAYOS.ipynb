{
 "cells": [
  {
   "cell_type": "code",
   "execution_count": 128,
   "metadata": {},
   "outputs": [],
   "source": [
    "#####R2####"
   ]
  },
  {
   "cell_type": "code",
   "execution_count": 136,
   "metadata": {
    "scrolled": true
   },
   "outputs": [
    {
     "name": "stdout",
     "output_type": "stream",
     "text": [
      "1234\n"
     ]
    }
   ],
   "source": [
    "import sys\n",
    "\n",
    "def get_r2(r1, s1):\n",
    "    if isinstance(r1, int) == True and isinstance(s1, int) == True and -1000 <= r1 <= 1000 and  -1000 <= s1<= 1000:\n",
    "           return (2*s1)-r1\n",
    "    else:\n",
    "        print(\"Debe ingresar números enteros entre -1000 y 1000\")\n",
    "###ENTONCES PARA CUALQUIER R1 Y S1 QUE CUMPLA LAS CONDICIONES, PUEDO ENCONTRAR R2       \n",
    "r1= 546\n",
    "s1=890\n",
    "r2=get_r2(r1,s1)\n",
    "print(r2)"
   ]
  },
  {
   "cell_type": "code",
   "execution_count": 130,
   "metadata": {},
   "outputs": [
    {
     "data": {
      "text/plain": [
       "True"
      ]
     },
     "execution_count": 130,
     "metadata": {},
     "output_type": "execute_result"
    }
   ],
   "source": [
    "r1= 2\n",
    "isinstance(r1, int)"
   ]
  },
  {
   "cell_type": "code",
   "execution_count": 132,
   "metadata": {},
   "outputs": [],
   "source": [
    "######Engineering English#######"
   ]
  },
  {
   "cell_type": "code",
   "execution_count": 139,
   "metadata": {},
   "outputs": [
    {
     "name": "stdout",
     "output_type": "stream",
     "text": [
      " Este es un trial de la solucion .  kattis .  no .  .  .  final .  .  .  . \n"
     ]
    }
   ],
   "source": [
    "a = \"Este es un trial de la solucion de kattis este no es la solucion final este eStE ESTE estE\"\n",
    "#debería devolver:\"Este es un trial de la solucion . kattis . no  . . . final . . . .\"\n",
    "a\n",
    "devolv = \"\"\n",
    "for palabra in a.split():\n",
    "    if palabra.title() in (devolv.title()).split():\n",
    "        devolv += \" . \"\n",
    "    else:\n",
    "        devolv = devolv + \" \" +  palabra\n",
    "print(devolv)\n",
    "\n",
    "\n",
    "#PROFESOR!!!!!: ACÁ FUNCIONA BIEN, PERO EN EL INPUT DEL PROBLEMA APARECE QUE ES UN TEXTBOOK,\n",
    "# Y GOOGLEÁNDO PARA VER QUE SIGNIFICA, SOLO APARECEN LITERAL LIBROS QUE ENSEÑAN PYTHON"
   ]
  },
  {
   "cell_type": "code",
   "execution_count": 167,
   "metadata": {},
   "outputs": [],
   "source": [
    "#no revisar, aun no estoy seguro como hacerlo\n",
    "######PET#######LA DIVINA COMIDA"
   ]
  },
  {
   "cell_type": "code",
   "execution_count": 149,
   "metadata": {},
   "outputs": [
    {
     "ename": "SyntaxError",
     "evalue": "can't assign to function call (<ipython-input-149-b33a2fa28821>, line 3)",
     "output_type": "error",
     "traceback": [
      "\u001b[0;36m  File \u001b[0;32m\"<ipython-input-149-b33a2fa28821>\"\u001b[0;36m, line \u001b[0;32m3\u001b[0m\n\u001b[0;31m    puntajec(1)= [3,4,5,3]\u001b[0m\n\u001b[0m                          ^\u001b[0m\n\u001b[0;31mSyntaxError\u001b[0m\u001b[0;31m:\u001b[0m can't assign to function call\n"
     ]
    }
   ],
   "source": [
    "###HAY 5 PARTICIPANTES, Y A CADA UNO SE LE ASGINAN 4 VOTOS DE LOS OTROS 4 PARTICIP. GANA EL QUE SUME MÁS PUNTOS\n",
    "\n",
    "puntajec(1)= [3,4,5,3]\n",
    "puntajec(2)= [4,4,4,3]\n",
    "puntajec(3)= [3,4,5,5]\n",
    "puntajec(4)= [3,1,2,3]\n",
    "puntajec(5)= [4,4,5,1]\n",
    "\n",
    "\n",
    "puntaje_ganador=[]\n",
    "particip_ganador=[]\n",
    "for i in range(1,6):\n",
    "    if puntajec(i) > puntaje_ganador:\n",
    "        puntaje_ganador = sum(puntajec[i])\n",
    "        paricipa_ganador.append(i)\n",
    "    else:\n",
    "        puntaje_ganador=puntaje_ganador\n",
    "        paricipa_ganador=paricipa_ganador\n",
    "\n",
    "    \n"
   ]
  },
  {
   "cell_type": "code",
   "execution_count": 166,
   "metadata": {},
   "outputs": [
    {
     "name": "stdout",
     "output_type": "stream",
     "text": [
      "1\n",
      "2\n",
      "3\n",
      "4\n",
      "5\n"
     ]
    }
   ],
   "source": [
    "for i in range(1,6):\n",
    "    print(i)"
   ]
  },
  {
   "cell_type": "code",
   "execution_count": 147,
   "metadata": {},
   "outputs": [
    {
     "ename": "SyntaxError",
     "evalue": "invalid syntax (<ipython-input-147-f227acc56bb5>, line 8)",
     "output_type": "error",
     "traceback": [
      "\u001b[0;36m  File \u001b[0;32m\"<ipython-input-147-f227acc56bb5>\"\u001b[0;36m, line \u001b[0;32m8\u001b[0m\n\u001b[0;31m    for\u001b[0m\n\u001b[0m        ^\u001b[0m\n\u001b[0;31mSyntaxError\u001b[0m\u001b[0;31m:\u001b[0m invalid syntax\n"
     ]
    }
   ],
   "source": [
    "puntajec1= [3,4,5,3]\n",
    "puntajec2= [4,4,4,3]\n",
    "puntajec3= [3,4,5,5]\n",
    "puntajec4= [3,1,2,3]\n",
    "puntajec5= [4,4,5,1]\n",
    "\n",
    "sum(puntajec1)\n",
    "for "
   ]
  },
  {
   "cell_type": "code",
   "execution_count": 155,
   "metadata": {},
   "outputs": [
    {
     "name": "stdout",
     "output_type": "stream",
     "text": [
      "Help on class map in module builtins:\n",
      "\n",
      "class map(object)\n",
      " |  map(func, *iterables) --> map object\n",
      " |  \n",
      " |  Make an iterator that computes the function using arguments from\n",
      " |  each of the iterables.  Stops when the shortest iterable is exhausted.\n",
      " |  \n",
      " |  Methods defined here:\n",
      " |  \n",
      " |  __getattribute__(self, name, /)\n",
      " |      Return getattr(self, name).\n",
      " |  \n",
      " |  __iter__(self, /)\n",
      " |      Implement iter(self).\n",
      " |  \n",
      " |  __new__(*args, **kwargs) from builtins.type\n",
      " |      Create and return a new object.  See help(type) for accurate signature.\n",
      " |  \n",
      " |  __next__(self, /)\n",
      " |      Implement next(self).\n",
      " |  \n",
      " |  __reduce__(...)\n",
      " |      Return state information for pickling.\n",
      "\n"
     ]
    },
    {
     "ename": "TypeError",
     "evalue": "'list' object is not callable",
     "output_type": "error",
     "traceback": [
      "\u001b[0;31m---------------------------------------------------------------------------\u001b[0m",
      "\u001b[0;31mTypeError\u001b[0m                                 Traceback (most recent call last)",
      "\u001b[0;32m<ipython-input-155-0a1931059af4>\u001b[0m in \u001b[0;36m<module>\u001b[0;34m()\u001b[0m\n\u001b[1;32m      3\u001b[0m \u001b[0mb\u001b[0m \u001b[0;34m=\u001b[0m \u001b[0;34m[\u001b[0m\u001b[0;34m'b1'\u001b[0m\u001b[0;34m,\u001b[0m \u001b[0;34m'b2'\u001b[0m\u001b[0;34m]\u001b[0m\u001b[0;34m\u001b[0m\u001b[0m\n\u001b[1;32m      4\u001b[0m \u001b[0;34m\u001b[0m\u001b[0m\n\u001b[0;32m----> 5\u001b[0;31m \u001b[0;32mfor\u001b[0m \u001b[0mx\u001b[0m\u001b[0;34m,\u001b[0m \u001b[0my\u001b[0m \u001b[0;32min\u001b[0m \u001b[0mmap\u001b[0m\u001b[0;34m(\u001b[0m \u001b[0ma\u001b[0m\u001b[0;34m,\u001b[0m \u001b[0mb\u001b[0m\u001b[0;34m)\u001b[0m\u001b[0;34m:\u001b[0m\u001b[0;34m\u001b[0m\u001b[0m\n\u001b[0m\u001b[1;32m      6\u001b[0m     \u001b[0mprint\u001b[0m \u001b[0;34m(\u001b[0m\u001b[0mx\u001b[0m\u001b[0;34m,\u001b[0m \u001b[0my\u001b[0m\u001b[0;34m)\u001b[0m\u001b[0;34m\u001b[0m\u001b[0m\n",
      "\u001b[0;31mTypeError\u001b[0m: 'list' object is not callable"
     ]
    }
   ],
   "source": [
    "help(map)\n",
    "a = ['a1', 'a2', 'a3']\n",
    "b = ['b1', 'b2']\n",
    "\n",
    "for x, y in map( a, b):\n",
    "    print (x, y)"
   ]
  },
  {
   "cell_type": "code",
   "execution_count": null,
   "metadata": {},
   "outputs": [],
   "source": []
  }
 ],
 "metadata": {
  "kernelspec": {
   "display_name": "Python 3",
   "language": "python",
   "name": "python3"
  },
  "language_info": {
   "codemirror_mode": {
    "name": "ipython",
    "version": 3
   },
   "file_extension": ".py",
   "mimetype": "text/x-python",
   "name": "python",
   "nbconvert_exporter": "python",
   "pygments_lexer": "ipython3",
   "version": "3.6.5"
  }
 },
 "nbformat": 4,
 "nbformat_minor": 2
}
